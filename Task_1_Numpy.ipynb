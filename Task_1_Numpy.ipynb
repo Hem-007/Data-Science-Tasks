{
  "cells": [
    {
      "cell_type": "markdown",
      "metadata": {
        "id": "view-in-github",
        "colab_type": "text"
      },
      "source": [
        "<a href=\"https://colab.research.google.com/github/Hem-007/Data-Science-Tasks/blob/main/Task_1_Numpy.ipynb\" target=\"_parent\"><img src=\"https://colab.research.google.com/assets/colab-badge.svg\" alt=\"Open In Colab\"/></a>"
      ]
    },
    {
      "cell_type": "code",
      "source": [
        "import numpy as np"
      ],
      "metadata": {
        "id": "NYDGe92N-D_7"
      },
      "execution_count": null,
      "outputs": []
    },
    {
      "cell_type": "markdown",
      "source": [
        "Creating Arrays  :"
      ],
      "metadata": {
        "id": "LwXB-poTAvEI"
      }
    },
    {
      "cell_type": "code",
      "execution_count": null,
      "metadata": {
        "colab": {
          "base_uri": "https://localhost:8080/"
        },
        "id": "iMbXDN9f6R2P",
        "outputId": "09441f01-2b7f-41b8-d8fb-ab18619b6cb6"
      },
      "outputs": [
        {
          "output_type": "stream",
          "name": "stdout",
          "text": [
            "A\n",
            " [[1 2 3]\n",
            " [4 5 6]\n",
            " [7 8 9]] \n",
            " B\n",
            " [[3 2 1]\n",
            " [6 5 4]\n",
            " [9 8 7]]\n",
            "Zeros :  [[0. 0. 0.]\n",
            " [0. 0. 0.]\n",
            " [0. 0. 0.]]\n",
            "Ones :  [1. 1. 1. 1. 1.]\n",
            "Range of Array :  [1 2 3 4 5]\n",
            "Linspace :  [ 5.   7.5 10. ]\n",
            "Identical matrix :  [[1. 0. 0. 0.]\n",
            " [0. 1. 0. 0.]\n",
            " [0. 0. 1. 0.]\n",
            " [0. 0. 0. 1.]]\n"
          ]
        }
      ],
      "source": [
        "#Creating an arrsy\n",
        "A=np.array([[1,2,3],[4,5,6],[7,8,9]])\n",
        "B=np.array([[3,2,1],[6,5,4,],[9,8,7]])\n",
        "print('A\\n',A,'\\n B\\n',B)\n",
        "#Create an array of zeros\n",
        "print('Zeros : ',np.zeros((3,3)))\n",
        "#Create an array of ones\n",
        "print('Ones : ',np.ones(5))\n",
        "#Create an array with a range of values\n",
        "print('Range of Array : ',np.array(np.arange(1,6)))\n",
        "#Create an array with evenly spaced values.\n",
        "print('Linspace : ',np.linspace(5,10,3))\n",
        "#Create an identity matrix.\n",
        "print('Identical matrix : ',np.eye(4))"
      ]
    },
    {
      "cell_type": "markdown",
      "source": [
        "Array Information:"
      ],
      "metadata": {
        "id": "V2XR5SPyAzh2"
      }
    },
    {
      "cell_type": "code",
      "source": [
        "#Returns the dimensions of the array\n",
        "print(\"Shape : \",A.shape)\n",
        "#Returns the number of dimensions\n",
        "print(\"dimension : \",A.ndim)\n",
        "#Returns the total number of elements\n",
        "print(\"Size : \",A.size)\n",
        "#Returns the data type of elements\n",
        "print (\"datatype : \",A.dtype)"
      ],
      "metadata": {
        "colab": {
          "base_uri": "https://localhost:8080/"
        },
        "id": "zSkgmW9Kbx5x",
        "outputId": "9d39362a-6ce7-46fb-f165-9e9ee03106bd"
      },
      "execution_count": null,
      "outputs": [
        {
          "output_type": "stream",
          "name": "stdout",
          "text": [
            "Shape :  (3, 3)\n",
            "dimension :  2\n",
            "Size :  9\n",
            "datatype :  int64\n"
          ]
        }
      ]
    },
    {
      "cell_type": "markdown",
      "source": [
        "Array Operations:"
      ],
      "metadata": {
        "id": "cNuQeBdjCdRr"
      }
    },
    {
      "cell_type": "code",
      "source": [
        "#Element-wise addition.\n",
        "print(\"Add : \",np.add(A,B))\n",
        "#Element-wise subtraction.\n",
        "print(\"Sub : \",np.subtract(A,B))\n",
        "# Element-wise multiplication.\n",
        "print(\"Multi : \",np.multiply(A,B))\n",
        "# Element-wise division.\n",
        "print(\"Divide : \",np.divide(A,B))\n",
        "#Dot product of two arrays.\n",
        "print(\"Dot : \",np.dot(A,B))"
      ],
      "metadata": {
        "colab": {
          "base_uri": "https://localhost:8080/"
        },
        "id": "GzUsPdEBe2W1",
        "outputId": "750a0cad-c1d8-4494-b20d-c11875efe4b7"
      },
      "execution_count": null,
      "outputs": [
        {
          "output_type": "stream",
          "name": "stdout",
          "text": [
            "Add :  [[ 4  4  4]\n",
            " [10 10 10]\n",
            " [16 16 16]]\n",
            "Sub :  [[-2  0  2]\n",
            " [-2  0  2]\n",
            " [-2  0  2]]\n",
            "Multi :  [[ 3  4  3]\n",
            " [24 25 24]\n",
            " [63 64 63]]\n",
            "Divide :  [[0.33333333 1.         3.        ]\n",
            " [0.66666667 1.         1.5       ]\n",
            " [0.77777778 1.         1.28571429]]\n",
            "Dot :  [[ 42  36  30]\n",
            " [ 96  81  66]\n",
            " [150 126 102]]\n"
          ]
        }
      ]
    },
    {
      "cell_type": "markdown",
      "source": [
        "Array Manipulation:\n"
      ],
      "metadata": {
        "id": "VopUE4Svgmuv"
      }
    },
    {
      "cell_type": "code",
      "source": [
        "# Reshape an array.\n",
        "print('Reshape Array : ',np.arange(25).reshape(5,5))\n",
        "#Concatenate arrays.\n",
        "print('Concatenate : ',np.concatenate((A,B)))\n",
        "# Transpose an array.\n",
        "print('Transpose Array : ',np.transpose(A))\n",
        "#Split an array into sub-arrays.\n",
        "print('Array Spliting : ',np.split(A,3))"
      ],
      "metadata": {
        "colab": {
          "base_uri": "https://localhost:8080/"
        },
        "id": "F9O--j6AhKQy",
        "outputId": "045921b4-a63f-4b16-bfa1-b9b225cac285"
      },
      "execution_count": null,
      "outputs": [
        {
          "output_type": "stream",
          "name": "stdout",
          "text": [
            "Reshape Array :  [[ 0  1  2  3  4]\n",
            " [ 5  6  7  8  9]\n",
            " [10 11 12 13 14]\n",
            " [15 16 17 18 19]\n",
            " [20 21 22 23 24]]\n",
            "Concatenate :  [[1 2 3]\n",
            " [4 5 6]\n",
            " [7 8 9]\n",
            " [3 2 1]\n",
            " [6 5 4]\n",
            " [9 8 7]]\n",
            "Transpose Array :  [[1 4 7]\n",
            " [2 5 8]\n",
            " [3 6 9]]\n",
            "Array Spliting :  [array([[1, 2, 3]]), array([[4, 5, 6]]), array([[7, 8, 9]])]\n"
          ]
        }
      ]
    },
    {
      "cell_type": "markdown",
      "source": [
        "Mathematical Functions:\n"
      ],
      "metadata": {
        "id": "V2yihZUah1sI"
      }
    },
    {
      "cell_type": "code",
      "source": [
        "#Sum of array elements.\n",
        "print('Sum : ',np.sum(A))\n",
        "#Mean value of array\n",
        "print('Mean : ',np.mean(A))\n",
        "#Median of the array\n",
        "print('Median : ',np.median(A))\n",
        "#Standard deviation.\n",
        "print('Standard Deviation : ',np.std(A))\n",
        "#Maxmimum value\n",
        "print('Maxmimum Value : ',np.max(A))\n",
        "#Minimum value\n",
        "print('Minimum Value : ',np.min(A))"
      ],
      "metadata": {
        "colab": {
          "base_uri": "https://localhost:8080/"
        },
        "id": "Pon7EvKXlhGl",
        "outputId": "0a2eb1b7-2e3d-4437-dc7d-e0a9c76fb16f"
      },
      "execution_count": null,
      "outputs": [
        {
          "output_type": "stream",
          "name": "stdout",
          "text": [
            "Sum :  45\n",
            "Mean :  5.0\n",
            "Median :  5.0\n",
            "Standard Deviation :  2.581988897471611\n",
            "Maxmimum Value :  9\n",
            "Minimum Value :  1\n"
          ]
        }
      ]
    },
    {
      "cell_type": "markdown",
      "source": [
        "Trigonometric Functions:\n"
      ],
      "metadata": {
        "id": "htl_ZstAjQZ1"
      }
    },
    {
      "cell_type": "code",
      "source": [
        "#Sin of Array\n",
        "print('Sin of Array : ',np.sin(A))\n",
        "#Cos of Array\n",
        "print('Cos of Array : ',np.cos(A))\n",
        "#Tan of Array\n",
        "print('Tan of Array : ',np.tan(A))"
      ],
      "metadata": {
        "colab": {
          "base_uri": "https://localhost:8080/"
        },
        "id": "ywrgOqvHmsEw",
        "outputId": "9bccb5d0-cf98-48ee-822e-05b5ec386af5"
      },
      "execution_count": null,
      "outputs": [
        {
          "output_type": "stream",
          "name": "stdout",
          "text": [
            "Sin of Array :  [[ 0.84147098  0.90929743  0.14112001]\n",
            " [-0.7568025  -0.95892427 -0.2794155 ]\n",
            " [ 0.6569866   0.98935825  0.41211849]]\n",
            "Cos of Array :  [[ 0.54030231 -0.41614684 -0.9899925 ]\n",
            " [-0.65364362  0.28366219  0.96017029]\n",
            " [ 0.75390225 -0.14550003 -0.91113026]]\n",
            "Tan of Array :  [[ 1.55740772 -2.18503986 -0.14254654]\n",
            " [ 1.15782128 -3.38051501 -0.29100619]\n",
            " [ 0.87144798 -6.79971146 -0.45231566]]\n"
          ]
        }
      ]
    },
    {
      "cell_type": "markdown",
      "source": [
        " Inverse trigonometric functions.\n"
      ],
      "metadata": {
        "id": "a3TvIoo0zqJ1"
      }
    },
    {
      "cell_type": "code",
      "source": [
        "#inverse of sin\n",
        "print('Inverse of sin : ',np.arcsin(A))\n",
        "#Inverse of cos\n",
        "print('Inverse of cos : ',np.arccos(A))\n",
        "#Inverse of tan\n",
        "print('Inverse of tan : ',np.arctan(A))"
      ],
      "metadata": {
        "colab": {
          "base_uri": "https://localhost:8080/"
        },
        "id": "yHfUi4KJnA8K",
        "outputId": "1cd1cae6-db98-4fa7-86ba-231b2fdd034e"
      },
      "execution_count": null,
      "outputs": [
        {
          "output_type": "stream",
          "name": "stdout",
          "text": [
            "Inverse of sin :  [[1.57079633        nan        nan]\n",
            " [       nan        nan        nan]\n",
            " [       nan        nan        nan]]\n",
            "Inverse of cos :  [[ 0. nan nan]\n",
            " [nan nan nan]\n",
            " [nan nan nan]]\n",
            "Inverse of tan :  [[0.78539816 1.10714872 1.24904577]\n",
            " [1.32581766 1.37340077 1.40564765]\n",
            " [1.42889927 1.44644133 1.46013911]]\n"
          ]
        },
        {
          "output_type": "stream",
          "name": "stderr",
          "text": [
            "<ipython-input-18-fe517dc1b985>:2: RuntimeWarning: invalid value encountered in arcsin\n",
            "  print('Inverse of sin : ',np.arcsin(A))\n",
            "<ipython-input-18-fe517dc1b985>:4: RuntimeWarning: invalid value encountered in arccos\n",
            "  print('Inverse of cos : ',np.arccos(A))\n"
          ]
        }
      ]
    },
    {
      "cell_type": "markdown",
      "source": [
        "Random function"
      ],
      "metadata": {
        "id": "YCtZ3Ax11c9W"
      }
    },
    {
      "cell_type": "code",
      "source": [
        "#Random\n",
        "A=np.random.rand(2,3)\n",
        "print('random : ',A)\n",
        "B=np.random.randint(1,10,5)\n",
        "print('random int : ',B)\n",
        "np.random.shuffle(B)\n",
        "print('shuffled array : ',B)"
      ],
      "metadata": {
        "id": "o2SVHaB-oDTy",
        "colab": {
          "base_uri": "https://localhost:8080/"
        },
        "outputId": "619b646e-f8ab-462e-cba6-2b5d1e94aa9b"
      },
      "execution_count": null,
      "outputs": [
        {
          "output_type": "stream",
          "name": "stdout",
          "text": [
            "random :  [[0.05205071 0.78611898 0.04282194]\n",
            " [0.15049436 0.51631207 0.59077604]]\n",
            "random int :  [5 5 3 6 9]\n",
            "shuffled array :  [5 3 5 6 9]\n",
            "Percentile :  [[3.00416406 3.06288952 3.00342576]\n",
            " [3.01203955 3.04130497 3.04726208]]\n",
            "[[1.         0.34676964]\n",
            " [0.34676964 1.        ]]\n"
          ]
        }
      ]
    },
    {
      "cell_type": "markdown",
      "source": [
        "Statistical Functions:"
      ],
      "metadata": {
        "id": "weSF2AHc1is-"
      }
    },
    {
      "cell_type": "code",
      "source": [
        "#Percentile\n",
        "print('Percentile : ',np.percentile(B,A))\n",
        "#Corelation Coefficient\n",
        "print('Corelation Coefficient : ',np.corrcoef(A))"
      ],
      "metadata": {
        "id": "Ziouz-t7IoV7",
        "colab": {
          "base_uri": "https://localhost:8080/"
        },
        "outputId": "93fea869-2c2c-4233-99ab-9b89bccfd01f"
      },
      "execution_count": null,
      "outputs": [
        {
          "output_type": "stream",
          "name": "stdout",
          "text": [
            "Percentile :  [[1.08 1.16 1.24]\n",
            " [1.32 1.4  1.48]\n",
            " [1.56 1.64 1.72]]\n",
            "Corelation Coefficient :  [[1. 1. 1.]\n",
            " [1. 1. 1.]\n",
            " [1. 1. 1.]]\n"
          ]
        }
      ]
    },
    {
      "cell_type": "markdown",
      "source": [
        "Logical Operations:"
      ],
      "metadata": {
        "id": "3HqFhs-G3r8b"
      }
    },
    {
      "cell_type": "code",
      "source": [
        "#AND Operator\n",
        "print('AND : ',np.logical_and(A,B))\n",
        "#OR Operator\n",
        "print('OR : ',np.logical_or(A,B))\n",
        "#NOT Operator\n",
        "print('NOT : ',np.logical_not(A))"
      ],
      "metadata": {
        "colab": {
          "base_uri": "https://localhost:8080/"
        },
        "id": "tD-JGbnc3t9M",
        "outputId": "bbe874bc-382d-469f-a4fa-aace1e66f70a"
      },
      "execution_count": null,
      "outputs": [
        {
          "output_type": "stream",
          "name": "stdout",
          "text": [
            "AND :  [[ True  True  True]\n",
            " [ True  True  True]\n",
            " [ True  True  True]]\n",
            "OR :  [[ True  True  True]\n",
            " [ True  True  True]\n",
            " [ True  True  True]]\n",
            "NOT :  [[False False False]\n",
            " [False False False]\n",
            " [False False False]]\n"
          ]
        }
      ]
    },
    {
      "cell_type": "markdown",
      "source": [
        "Linear Algebra:"
      ],
      "metadata": {
        "id": "jF1vHWHJcNfn"
      }
    },
    {
      "cell_type": "code",
      "source": [
        "C = np.array([[6, 1, 1],\n",
        "              [4, -2, 5],\n",
        "              [2, 8, 7]])\n",
        "\n",
        "# Calculating the inverse of the matrix\n",
        "print('Inverse of matrix : ',np.linalg.inv(C))\n",
        "#Determinant of a matrix.\n",
        "print('Determinant of matrix : ',np.linalg.det(C))\n",
        "#Eigenvalues and eigenvectors.\n",
        "print('Eigenvalues and eigenvectors. : ',np.linalg.eig(C))"
      ],
      "metadata": {
        "colab": {
          "base_uri": "https://localhost:8080/"
        },
        "id": "DNo4qqYkdhgT",
        "outputId": "d4642cb1-60d1-4eca-f914-544c2536c539"
      },
      "execution_count": null,
      "outputs": [
        {
          "output_type": "stream",
          "name": "stdout",
          "text": [
            "Inverse of matrix :  [[ 0.17647059 -0.00326797 -0.02287582]\n",
            " [ 0.05882353 -0.13071895  0.08496732]\n",
            " [-0.11764706  0.1503268   0.05228758]]\n",
            "Determinant of matrix :  -306.0\n",
            "Eigenvalues and eigenvectors. :  (array([11.24862343,  5.09285054, -5.34147398]), array([[ 0.24511338,  0.75669314,  0.02645665],\n",
            "       [ 0.40622202, -0.03352363, -0.84078293],\n",
            "       [ 0.88028581, -0.65291014,  0.54072554]]))\n"
          ]
        }
      ]
    },
    {
      "cell_type": "code",
      "source": [
        "#Sorting\n",
        "print('Sorting of array  : ',np.sort(C))"
      ],
      "metadata": {
        "colab": {
          "base_uri": "https://localhost:8080/"
        },
        "id": "1LhakrgLgSgX",
        "outputId": "4eb54563-474f-46c6-88c8-06f315fee2d4"
      },
      "execution_count": null,
      "outputs": [
        {
          "output_type": "stream",
          "name": "stdout",
          "text": [
            "Sorting of array  :  [[ 1  1  6]\n",
            " [-2  4  5]\n",
            " [ 2  7  8]]\n"
          ]
        }
      ]
    },
    {
      "cell_type": "markdown",
      "source": [
        "\n",
        "File Input/Output:\n"
      ],
      "metadata": {
        "id": "rY2wyeCrgde8"
      }
    },
    {
      "cell_type": "code",
      "source": [
        "from tempfile import TemporaryFile\n",
        "fl= TemporaryFile()"
      ],
      "metadata": {
        "id": "DgTZmIrYhZUu"
      },
      "execution_count": null,
      "outputs": []
    },
    {
      "cell_type": "code",
      "source": [
        "# Save an array to a binary file.\n",
        "np.save(fl,A)\n",
        "print('file saved ')"
      ],
      "metadata": {
        "colab": {
          "base_uri": "https://localhost:8080/"
        },
        "id": "VviN1x1BgiPE",
        "outputId": "1138137c-5495-41a3-e058-fae0c495131c"
      },
      "execution_count": null,
      "outputs": [
        {
          "output_type": "stream",
          "name": "stdout",
          "text": [
            "file saved \n"
          ]
        }
      ]
    },
    {
      "cell_type": "code",
      "source": [
        "# Load an array from a binary file.\n",
        "fl.seek(0)\n",
        "print('Loaded file : ',np.load(fl))"
      ],
      "metadata": {
        "colab": {
          "base_uri": "https://localhost:8080/"
        },
        "id": "M79nO5EZh5NH",
        "outputId": "63e84117-56db-48f4-8056-64ae23839f1f"
      },
      "execution_count": null,
      "outputs": [
        {
          "output_type": "stream",
          "name": "stdout",
          "text": [
            "Loaded file :  [[1 2 3]\n",
            " [4 5 6]\n",
            " [7 8 9]]\n"
          ]
        }
      ]
    },
    {
      "cell_type": "markdown",
      "source": [
        " *******COMPLETED*******"
      ],
      "metadata": {
        "id": "oLvwPQQnicrW"
      }
    }
  ],
  "metadata": {
    "colab": {
      "provenance": [],
      "mount_file_id": "1UTLOIMBrP2H0UWiF8XHziC5PC7hFSy-V",
      "authorship_tag": "ABX9TyPhvaZSdxYlV+btNRAHpjQU",
      "include_colab_link": true
    },
    "kernelspec": {
      "display_name": "Python 3",
      "name": "python3"
    },
    "language_info": {
      "name": "python"
    }
  },
  "nbformat": 4,
  "nbformat_minor": 0
}